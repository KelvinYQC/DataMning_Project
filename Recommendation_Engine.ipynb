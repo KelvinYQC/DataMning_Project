{
 "cells": [
  {
   "cell_type": "markdown",
   "metadata": {
    "collapsed": false,
    "pycharm": {
     "name": "#%% md\n"
    }
   },
   "source": [
    "# Recommendation Engine"
   ]
  },
  {
   "attachments": {},
   "cell_type": "markdown",
   "metadata": {},
   "source": [
    "### data: https://www.kaggle.com/datasets/rounakbanik/the-movies-dataset"
   ]
  },
  {
   "cell_type": "code",
   "execution_count": 91,
   "metadata": {
    "collapsed": true,
    "pycharm": {
     "name": "#%%\n"
    }
   },
   "outputs": [],
   "source": [
    "# load package\n",
    "import pandas as pd\n",
    "import numpy as np"
   ]
  },
  {
   "cell_type": "code",
   "execution_count": 92,
   "metadata": {
    "collapsed": false,
    "pycharm": {
     "name": "#%%\n"
    }
   },
   "outputs": [
    {
     "name": "stderr",
     "output_type": "stream",
     "text": [
      "/var/folders/5_/39stv43d5_70psn53dfmjwt00000gn/T/ipykernel_10281/1355446083.py:2: DtypeWarning: Columns (10) have mixed types. Specify dtype option on import or set low_memory=False.\n",
      "  df_movie = pd.read_csv(\"data/movies_metadata.csv\")\n"
     ]
    }
   ],
   "source": [
    "# load data\n",
    "df_movie = pd.read_csv(\"data/movies_metadata.csv\")\n",
    "df_ratings = pd.read_csv(\"data/ratings_small.csv\")\n",
    "pd.set_option('display.max_columns', None)\n",
    "df_movie['movieId'] = pd.to_numeric(df_movie['id'], errors='coerce')\n",
    "df = pd.merge(df_ratings, df_movie, on='movieId', how='inner')\n",
    "df_re = df.iloc[:, 0:3]\n"
   ]
  },
  {
   "cell_type": "markdown",
   "metadata": {
    "collapsed": false,
    "pycharm": {
     "name": "#%% md\n"
    }
   },
   "source": [
    "## Building the Recommendation Engine"
   ]
  },
  {
   "cell_type": "markdown",
   "metadata": {
    "collapsed": false,
    "pycharm": {
     "name": "#%% md\n"
    }
   },
   "source": [
    "### User based recommendation engine\n"
   ]
  },
  {
   "cell_type": "code",
   "execution_count": 93,
   "metadata": {
    "collapsed": false,
    "pycharm": {
     "name": "#%%\n"
    }
   },
   "outputs": [],
   "source": [
    "# build rating matrix\n",
    "ratings = df_re.groupby([\"userId\",\"movieId\"])[\"rating\"].mean().unstack().reset_index().set_index('userId')\n",
    "rating_norm = ratings.subtract(ratings.mean(axis=1), axis = 0)\n",
    "user_similarity = rating_norm.T.corr(method='pearson')\n"
   ]
  },
  {
   "cell_type": "code",
   "execution_count": 94,
   "metadata": {
    "collapsed": false,
    "pycharm": {
     "name": "#%%\n"
    }
   },
   "outputs": [],
   "source": [
    "def UBRE(target_user, product_id):\n",
    "    # find users with similar ratings\n",
    "    target_user_similarity = user_similarity.loc[[target_user]].dropna(axis=1, how='all').reset_index()\n",
    "    target_user_similarity.drop(target_user_similarity.iloc[:, 0:1], inplace=True, axis=1)\n",
    "    target_user_similarity = target_user_similarity.T\n",
    "    target_user_similarity.columns = [\"similarity to the targeted customer\"]\n",
    "    target_user_similarity.reset_index()\n",
    "    target_user_similarity.drop(target_user, axis=0, inplace=True)\n",
    "    # get rating to target product based for similar users\n",
    "    target_item_ratings = rating_norm.loc[:,product_id].dropna(axis=0, how='all').reset_index()\n",
    "    target_item_ratings.columns = [\"userId\",\"rating to the targeted product\"]\n",
    "    ratings_with_user_sim = target_item_ratings.merge(target_user_similarity, on = \"userId\", how = \"inner\")\n",
    "    top5_users = ratings_with_user_sim.sort_values(by = \"similarity to the targeted customer\", ascending = False).iloc[0:5,]\n",
    "    try:\n",
    "        predicted_rating = round(np.average(top5_users['rating to the targeted product'],\n",
    "                                        weights=top5_users['similarity to the targeted customer']), 2)\n",
    "    except:\n",
    "        return 0\n",
    "    return predicted_rating\n",
    "\n"
   ]
  },
  {
   "cell_type": "markdown",
   "metadata": {
    "collapsed": false,
    "pycharm": {
     "name": "#%% md\n"
    }
   },
   "source": [
    "For example, if we are predicting the recommended item for user 1, the recommendation would be:"
   ]
  },
  {
   "cell_type": "code",
   "execution_count": 95,
   "metadata": {
    "collapsed": false,
    "pycharm": {
     "name": "#%%\n"
    }
   },
   "outputs": [],
   "source": [
    "target_user = 1\n",
    "top_num_recommend = 5\n",
    "item_rank = {}\n",
    "for pid in df_re.movieId.unique():\n",
    "    item_rank[pid] = UBRE(target_user, pid)"
   ]
  },
  {
   "cell_type": "code",
   "execution_count": 96,
   "metadata": {
    "collapsed": false,
    "pycharm": {
     "name": "#%%\n"
    }
   },
   "outputs": [
    {
     "name": "stdout",
     "output_type": "stream",
     "text": [
      "The top recommendation movies are (showed in ID) are: \n",
      "{'Mermaids', \"À l'aveugle\", 'Freedom Writers', 'Дневной дозор', 'Dans ma peau'}\n"
     ]
    }
   ],
   "source": [
    "# show recommended movies\n",
    "res = set()\n",
    "for i, v in sorted(item_rank.items(), key=lambda item: item[1], reverse=True):\n",
    "    cur_title = df[df['movieId'] == i].original_title.unique()[0]\n",
    "    res.add(cur_title)\n",
    "    if len(res) == top_num_recommend:\n",
    "        break\n",
    "print(\"The top recommendation movies are (showed in ID) are: \")\n",
    "print(res)"
   ]
  },
  {
   "cell_type": "markdown",
   "metadata": {
    "collapsed": false,
    "pycharm": {
     "name": "#%% md\n"
    }
   },
   "source": [
    "### Item based recommendation engine"
   ]
  },
  {
   "cell_type": "code",
   "execution_count": 97,
   "metadata": {
    "collapsed": false,
    "pycharm": {
     "name": "#%%\n"
    }
   },
   "outputs": [],
   "source": [
    "# Product similarity matrix using Pearson correlation\n",
    "item_similarity = rating_norm.corr(method='pearson')\n"
   ]
  },
  {
   "cell_type": "code",
   "execution_count": 98,
   "metadata": {
    "collapsed": false,
    "pycharm": {
     "name": "#%%\n"
    }
   },
   "outputs": [],
   "source": [
    "def IBRE(target_user, product_id):\n",
    "    target_item_similarity_score = item_similarity.loc[[product_id]].dropna(axis=1, how='all').reset_index()\n",
    "    target_item_similarity_score.drop(target_item_similarity_score.iloc[:,0:1], inplace= True,axis = 1)\n",
    "    target_item_similarity_score = target_item_similarity_score.T.reset_index()\n",
    "    target_item_similarity_score.columns = [\"ProductId\",\"similarity to the targeted product\"]\n",
    "    target_item_similarity_score.drop(target_item_similarity_score[target_item_similarity_score['ProductId'] == product_id].index, inplace=True)\n",
    "    target_item_similarity_score.head(10)\n",
    "    # select items that have been rated by the targeted user\n",
    "    target_user_rated = rating_norm.loc[[target_user]].dropna(axis=1, how='all').reset_index()\n",
    "    target_user_rated.drop(target_user_rated.iloc[:, 0:1], inplace=True, axis=1)\n",
    "    target_userid_rated = target_user_rated.T\n",
    "    target_userid_rated.reset_index(inplace=True)\n",
    "    target_userid_rated .columns = [\"ProductId\",\"target_user_rating\"]\n",
    "    # target_userid_rated.reset_index(inplace=True)\n",
    "    target_userid_rated.head(10)\n",
    "    # join target_user_rated and target_item_similarity_score\n",
    "    ratings_with_item_sim = target_userid_rated.merge(target_item_similarity_score, on= \"ProductId\", how = \"inner\")\n",
    "    ratings_with_item_sim.head(10)\n",
    "    # Select top 5 products that are most similar to the target product and have been rated by the target user\n",
    "    top5_items = ratings_with_item_sim.sort_values(by=\"similarity to the targeted product\", ascending= False).iloc[0:5,:]\n",
    "    #Calculate the predicted rating using weighted average of similarity\n",
    "    try:\n",
    "        predicted_rating = round(np.average(top5_items['target_user_rating'],\n",
    "                                        weights=top5_items['similarity to the targeted product']), 2)\n",
    "    except:\n",
    "        return 0\n",
    "    return predicted_rating\n",
    "\n"
   ]
  },
  {
   "cell_type": "code",
   "execution_count": 99,
   "metadata": {
    "collapsed": false,
    "pycharm": {
     "name": "#%%\n"
    }
   },
   "outputs": [],
   "source": [
    "# build the similarity dictionary\n",
    "target_user = 1\n",
    "top_num_recommend = 5\n",
    "item_rank = {}\n",
    "for pid in df_re.movieId.unique():\n",
    "    item_rank[pid] = IBRE(target_user, pid)\n",
    "\n"
   ]
  },
  {
   "cell_type": "code",
   "execution_count": 100,
   "metadata": {
    "collapsed": false,
    "pycharm": {
     "name": "#%%\n"
    }
   },
   "outputs": [
    {
     "name": "stdout",
     "output_type": "stream",
     "text": [
      "The top recommendation movies are (showed in ID) are: \n",
      "{'Турецкий гамбит', 'Enigma', 'Die Geschichte vom weinenden Kamel', 'Utvandrarna', 'The Sentinel'}\n"
     ]
    }
   ],
   "source": [
    "# show recommended movies\n",
    "res = set()\n",
    "for i, v in sorted(item_rank.items(), key=lambda item: item[1], reverse=True):\n",
    "    cur_title = df[df['movieId'] == i].original_title.unique()[0]\n",
    "    res.add(cur_title)\n",
    "    if len(res) == top_num_recommend:\n",
    "        break\n",
    "print(\"The top recommendation movies are (showed in ID) are: \")\n",
    "print(res)"
   ]
  }
 ],
 "metadata": {
  "kernelspec": {
   "display_name": "Python 3",
   "language": "python",
   "name": "python3"
  },
  "language_info": {
   "codemirror_mode": {
    "name": "ipython",
    "version": 2
   },
   "file_extension": ".py",
   "mimetype": "text/x-python",
   "name": "python",
   "nbconvert_exporter": "python",
   "pygments_lexer": "ipython2",
   "version": "2.7.6"
  }
 },
 "nbformat": 4,
 "nbformat_minor": 0
}

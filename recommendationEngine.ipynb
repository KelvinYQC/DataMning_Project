{
 "cells": [
  {
   "cell_type": "markdown",
   "source": [
    "# Recommendation Engine"
   ],
   "metadata": {
    "collapsed": false,
    "pycharm": {
     "name": "#%% md\n"
    }
   }
  },
  {
   "cell_type": "code",
   "execution_count": 1,
   "metadata": {
    "collapsed": true,
    "pycharm": {
     "name": "#%%\n"
    }
   },
   "outputs": [],
   "source": [
    "import numpy as np\n",
    "import pandas as pd\n",
    "import matplotlib.pyplot as plt\n",
    "\n",
    "from sklearn.decomposition import PCA\n",
    "from sklearn.decomposition import KernelPCA\n",
    "\n",
    "import seaborn as sns\n",
    "from matplotlib.ticker import MaxNLocator\n",
    "from sklearn.datasets import make_classification\n",
    "from sklearn.manifold import TSNE\n",
    "from scipy.stats import norm\n",
    "from sklearn.cluster import KMeans\n",
    "# from sklearn_extra.cluster import KMedoids\n",
    "# from kmodes.kmodes import KModes\n",
    "from sklearn.preprocessing import StandardScaler\n",
    "from sklearn.manifold import TSNE"
   ]
  },
  {
   "cell_type": "code",
   "execution_count": 2,
   "outputs": [
    {
     "name": "stderr",
     "output_type": "stream",
     "text": [
      "/var/folders/5_/39stv43d5_70psn53dfmjwt00000gn/T/ipykernel_56970/2682971138.py:2: DtypeWarning: Columns (10) have mixed types. Specify dtype option on import or set low_memory=False.\n",
      "  df_movie = pd.read_csv(\"data/movies_metadata.csv\")\n"
     ]
    },
    {
     "data": {
      "text/plain": "   adult                              belongs_to_collection    budget  \\\n0  False  {'id': 10194, 'name': 'Toy Story Collection', ...  30000000   \n1  False                                                NaN  65000000   \n2  False  {'id': 119050, 'name': 'Grumpy Old Men Collect...         0   \n3  False                                                NaN  16000000   \n4  False  {'id': 96871, 'name': 'Father of the Bride Col...         0   \n\n                                              genres  \\\n0  [{'id': 16, 'name': 'Animation'}, {'id': 35, '...   \n1  [{'id': 12, 'name': 'Adventure'}, {'id': 14, '...   \n2  [{'id': 10749, 'name': 'Romance'}, {'id': 35, ...   \n3  [{'id': 35, 'name': 'Comedy'}, {'id': 18, 'nam...   \n4                     [{'id': 35, 'name': 'Comedy'}]   \n\n                               homepage     id    imdb_id original_language  \\\n0  http://toystory.disney.com/toy-story    862  tt0114709                en   \n1                                   NaN   8844  tt0113497                en   \n2                                   NaN  15602  tt0113228                en   \n3                                   NaN  31357  tt0114885                en   \n4                                   NaN  11862  tt0113041                en   \n\n                original_title  \\\n0                    Toy Story   \n1                      Jumanji   \n2             Grumpier Old Men   \n3            Waiting to Exhale   \n4  Father of the Bride Part II   \n\n                                            overview popularity  \\\n0  Led by Woody, Andy's toys live happily in his ...  21.946943   \n1  When siblings Judy and Peter discover an encha...  17.015539   \n2  A family wedding reignites the ancient feud be...    11.7129   \n3  Cheated on, mistreated and stepped on, the wom...   3.859495   \n4  Just when George Banks has recovered from his ...   8.387519   \n\n                        poster_path  \\\n0  /rhIRbceoE9lR4veEXuwCC2wARtG.jpg   \n1  /vzmL6fP7aPKNKPRTFnZmiUfciyV.jpg   \n2  /6ksm1sjKMFLbO7UY2i6G1ju9SML.jpg   \n3  /16XOMpEaLWkrcPqSQqhTmeJuqQl.jpg   \n4  /e64sOI48hQXyru7naBFyssKFxVd.jpg   \n\n                                production_companies  \\\n0     [{'name': 'Pixar Animation Studios', 'id': 3}]   \n1  [{'name': 'TriStar Pictures', 'id': 559}, {'na...   \n2  [{'name': 'Warner Bros.', 'id': 6194}, {'name'...   \n3  [{'name': 'Twentieth Century Fox Film Corporat...   \n4  [{'name': 'Sandollar Productions', 'id': 5842}...   \n\n                                production_countries release_date  \\\n0  [{'iso_3166_1': 'US', 'name': 'United States o...   1995-10-30   \n1  [{'iso_3166_1': 'US', 'name': 'United States o...   1995-12-15   \n2  [{'iso_3166_1': 'US', 'name': 'United States o...   1995-12-22   \n3  [{'iso_3166_1': 'US', 'name': 'United States o...   1995-12-22   \n4  [{'iso_3166_1': 'US', 'name': 'United States o...   1995-02-10   \n\n       revenue  runtime                                   spoken_languages  \\\n0  373554033.0     81.0           [{'iso_639_1': 'en', 'name': 'English'}]   \n1  262797249.0    104.0  [{'iso_639_1': 'en', 'name': 'English'}, {'iso...   \n2          0.0    101.0           [{'iso_639_1': 'en', 'name': 'English'}]   \n3   81452156.0    127.0           [{'iso_639_1': 'en', 'name': 'English'}]   \n4   76578911.0    106.0           [{'iso_639_1': 'en', 'name': 'English'}]   \n\n     status                                            tagline  \\\n0  Released                                                NaN   \n1  Released          Roll the dice and unleash the excitement!   \n2  Released  Still Yelling. Still Fighting. Still Ready for...   \n3  Released  Friends are the people who let you be yourself...   \n4  Released  Just When His World Is Back To Normal... He's ...   \n\n                         title  video  vote_average  vote_count  \n0                    Toy Story  False           7.7      5415.0  \n1                      Jumanji  False           6.9      2413.0  \n2             Grumpier Old Men  False           6.5        92.0  \n3            Waiting to Exhale  False           6.1        34.0  \n4  Father of the Bride Part II  False           5.7       173.0  ",
      "text/html": "<div>\n<style scoped>\n    .dataframe tbody tr th:only-of-type {\n        vertical-align: middle;\n    }\n\n    .dataframe tbody tr th {\n        vertical-align: top;\n    }\n\n    .dataframe thead th {\n        text-align: right;\n    }\n</style>\n<table border=\"1\" class=\"dataframe\">\n  <thead>\n    <tr style=\"text-align: right;\">\n      <th></th>\n      <th>adult</th>\n      <th>belongs_to_collection</th>\n      <th>budget</th>\n      <th>genres</th>\n      <th>homepage</th>\n      <th>id</th>\n      <th>imdb_id</th>\n      <th>original_language</th>\n      <th>original_title</th>\n      <th>overview</th>\n      <th>popularity</th>\n      <th>poster_path</th>\n      <th>production_companies</th>\n      <th>production_countries</th>\n      <th>release_date</th>\n      <th>revenue</th>\n      <th>runtime</th>\n      <th>spoken_languages</th>\n      <th>status</th>\n      <th>tagline</th>\n      <th>title</th>\n      <th>video</th>\n      <th>vote_average</th>\n      <th>vote_count</th>\n    </tr>\n  </thead>\n  <tbody>\n    <tr>\n      <th>0</th>\n      <td>False</td>\n      <td>{'id': 10194, 'name': 'Toy Story Collection', ...</td>\n      <td>30000000</td>\n      <td>[{'id': 16, 'name': 'Animation'}, {'id': 35, '...</td>\n      <td>http://toystory.disney.com/toy-story</td>\n      <td>862</td>\n      <td>tt0114709</td>\n      <td>en</td>\n      <td>Toy Story</td>\n      <td>Led by Woody, Andy's toys live happily in his ...</td>\n      <td>21.946943</td>\n      <td>/rhIRbceoE9lR4veEXuwCC2wARtG.jpg</td>\n      <td>[{'name': 'Pixar Animation Studios', 'id': 3}]</td>\n      <td>[{'iso_3166_1': 'US', 'name': 'United States o...</td>\n      <td>1995-10-30</td>\n      <td>373554033.0</td>\n      <td>81.0</td>\n      <td>[{'iso_639_1': 'en', 'name': 'English'}]</td>\n      <td>Released</td>\n      <td>NaN</td>\n      <td>Toy Story</td>\n      <td>False</td>\n      <td>7.7</td>\n      <td>5415.0</td>\n    </tr>\n    <tr>\n      <th>1</th>\n      <td>False</td>\n      <td>NaN</td>\n      <td>65000000</td>\n      <td>[{'id': 12, 'name': 'Adventure'}, {'id': 14, '...</td>\n      <td>NaN</td>\n      <td>8844</td>\n      <td>tt0113497</td>\n      <td>en</td>\n      <td>Jumanji</td>\n      <td>When siblings Judy and Peter discover an encha...</td>\n      <td>17.015539</td>\n      <td>/vzmL6fP7aPKNKPRTFnZmiUfciyV.jpg</td>\n      <td>[{'name': 'TriStar Pictures', 'id': 559}, {'na...</td>\n      <td>[{'iso_3166_1': 'US', 'name': 'United States o...</td>\n      <td>1995-12-15</td>\n      <td>262797249.0</td>\n      <td>104.0</td>\n      <td>[{'iso_639_1': 'en', 'name': 'English'}, {'iso...</td>\n      <td>Released</td>\n      <td>Roll the dice and unleash the excitement!</td>\n      <td>Jumanji</td>\n      <td>False</td>\n      <td>6.9</td>\n      <td>2413.0</td>\n    </tr>\n    <tr>\n      <th>2</th>\n      <td>False</td>\n      <td>{'id': 119050, 'name': 'Grumpy Old Men Collect...</td>\n      <td>0</td>\n      <td>[{'id': 10749, 'name': 'Romance'}, {'id': 35, ...</td>\n      <td>NaN</td>\n      <td>15602</td>\n      <td>tt0113228</td>\n      <td>en</td>\n      <td>Grumpier Old Men</td>\n      <td>A family wedding reignites the ancient feud be...</td>\n      <td>11.7129</td>\n      <td>/6ksm1sjKMFLbO7UY2i6G1ju9SML.jpg</td>\n      <td>[{'name': 'Warner Bros.', 'id': 6194}, {'name'...</td>\n      <td>[{'iso_3166_1': 'US', 'name': 'United States o...</td>\n      <td>1995-12-22</td>\n      <td>0.0</td>\n      <td>101.0</td>\n      <td>[{'iso_639_1': 'en', 'name': 'English'}]</td>\n      <td>Released</td>\n      <td>Still Yelling. Still Fighting. Still Ready for...</td>\n      <td>Grumpier Old Men</td>\n      <td>False</td>\n      <td>6.5</td>\n      <td>92.0</td>\n    </tr>\n    <tr>\n      <th>3</th>\n      <td>False</td>\n      <td>NaN</td>\n      <td>16000000</td>\n      <td>[{'id': 35, 'name': 'Comedy'}, {'id': 18, 'nam...</td>\n      <td>NaN</td>\n      <td>31357</td>\n      <td>tt0114885</td>\n      <td>en</td>\n      <td>Waiting to Exhale</td>\n      <td>Cheated on, mistreated and stepped on, the wom...</td>\n      <td>3.859495</td>\n      <td>/16XOMpEaLWkrcPqSQqhTmeJuqQl.jpg</td>\n      <td>[{'name': 'Twentieth Century Fox Film Corporat...</td>\n      <td>[{'iso_3166_1': 'US', 'name': 'United States o...</td>\n      <td>1995-12-22</td>\n      <td>81452156.0</td>\n      <td>127.0</td>\n      <td>[{'iso_639_1': 'en', 'name': 'English'}]</td>\n      <td>Released</td>\n      <td>Friends are the people who let you be yourself...</td>\n      <td>Waiting to Exhale</td>\n      <td>False</td>\n      <td>6.1</td>\n      <td>34.0</td>\n    </tr>\n    <tr>\n      <th>4</th>\n      <td>False</td>\n      <td>{'id': 96871, 'name': 'Father of the Bride Col...</td>\n      <td>0</td>\n      <td>[{'id': 35, 'name': 'Comedy'}]</td>\n      <td>NaN</td>\n      <td>11862</td>\n      <td>tt0113041</td>\n      <td>en</td>\n      <td>Father of the Bride Part II</td>\n      <td>Just when George Banks has recovered from his ...</td>\n      <td>8.387519</td>\n      <td>/e64sOI48hQXyru7naBFyssKFxVd.jpg</td>\n      <td>[{'name': 'Sandollar Productions', 'id': 5842}...</td>\n      <td>[{'iso_3166_1': 'US', 'name': 'United States o...</td>\n      <td>1995-02-10</td>\n      <td>76578911.0</td>\n      <td>106.0</td>\n      <td>[{'iso_639_1': 'en', 'name': 'English'}]</td>\n      <td>Released</td>\n      <td>Just When His World Is Back To Normal... He's ...</td>\n      <td>Father of the Bride Part II</td>\n      <td>False</td>\n      <td>5.7</td>\n      <td>173.0</td>\n    </tr>\n  </tbody>\n</table>\n</div>"
     },
     "execution_count": 2,
     "metadata": {},
     "output_type": "execute_result"
    }
   ],
   "source": [
    "# load data\n",
    "df_movie = pd.read_csv(\"data/movies_metadata.csv\")\n",
    "df_ratings = pd.read_csv(\"data/ratings_small.csv\")\n",
    "pd.set_option('display.max_columns', None)\n",
    "df_movie.head()"
   ],
   "metadata": {
    "collapsed": false,
    "pycharm": {
     "name": "#%%\n"
    }
   }
  },
  {
   "cell_type": "code",
   "execution_count": 3,
   "outputs": [
    {
     "data": {
      "text/plain": "   userId  movieId  rating   timestamp  adult  \\\n0       1     1371     2.5  1260759135  False   \n1       4     1371     4.0   949810302  False   \n2       7     1371     3.0   851869160  False   \n3      19     1371     4.0   855193404  False   \n4      21     1371     3.0   853852263  False   \n\n                               belongs_to_collection    budget  \\\n0  {'id': 1575, 'name': 'Rocky Collection', 'post...  17000000   \n1  {'id': 1575, 'name': 'Rocky Collection', 'post...  17000000   \n2  {'id': 1575, 'name': 'Rocky Collection', 'post...  17000000   \n3  {'id': 1575, 'name': 'Rocky Collection', 'post...  17000000   \n4  {'id': 1575, 'name': 'Rocky Collection', 'post...  17000000   \n\n                          genres homepage    id    imdb_id original_language  \\\n0  [{'id': 18, 'name': 'Drama'}]      NaN  1371  tt0084602                en   \n1  [{'id': 18, 'name': 'Drama'}]      NaN  1371  tt0084602                en   \n2  [{'id': 18, 'name': 'Drama'}]      NaN  1371  tt0084602                en   \n3  [{'id': 18, 'name': 'Drama'}]      NaN  1371  tt0084602                en   \n4  [{'id': 18, 'name': 'Drama'}]      NaN  1371  tt0084602                en   \n\n  original_title                                           overview  \\\n0      Rocky III  Now the world champion, Rocky Balboa is living...   \n1      Rocky III  Now the world champion, Rocky Balboa is living...   \n2      Rocky III  Now the world champion, Rocky Balboa is living...   \n3      Rocky III  Now the world champion, Rocky Balboa is living...   \n4      Rocky III  Now the world champion, Rocky Balboa is living...   \n\n  popularity                       poster_path  \\\n0  11.673366  /ns55NGqTDEEjcI9z2a9htA2cFtG.jpg   \n1  11.673366  /ns55NGqTDEEjcI9z2a9htA2cFtG.jpg   \n2  11.673366  /ns55NGqTDEEjcI9z2a9htA2cFtG.jpg   \n3  11.673366  /ns55NGqTDEEjcI9z2a9htA2cFtG.jpg   \n4  11.673366  /ns55NGqTDEEjcI9z2a9htA2cFtG.jpg   \n\n                     production_companies  \\\n0  [{'name': 'United Artists', 'id': 60}]   \n1  [{'name': 'United Artists', 'id': 60}]   \n2  [{'name': 'United Artists', 'id': 60}]   \n3  [{'name': 'United Artists', 'id': 60}]   \n4  [{'name': 'United Artists', 'id': 60}]   \n\n                                production_countries release_date  \\\n0  [{'iso_3166_1': 'US', 'name': 'United States o...   1982-05-28   \n1  [{'iso_3166_1': 'US', 'name': 'United States o...   1982-05-28   \n2  [{'iso_3166_1': 'US', 'name': 'United States o...   1982-05-28   \n3  [{'iso_3166_1': 'US', 'name': 'United States o...   1982-05-28   \n4  [{'iso_3166_1': 'US', 'name': 'United States o...   1982-05-28   \n\n       revenue  runtime                          spoken_languages    status  \\\n0  270000000.0     99.0  [{'iso_639_1': 'en', 'name': 'English'}]  Released   \n1  270000000.0     99.0  [{'iso_639_1': 'en', 'name': 'English'}]  Released   \n2  270000000.0     99.0  [{'iso_639_1': 'en', 'name': 'English'}]  Released   \n3  270000000.0     99.0  [{'iso_639_1': 'en', 'name': 'English'}]  Released   \n4  270000000.0     99.0  [{'iso_639_1': 'en', 'name': 'English'}]  Released   \n\n                   tagline      title  video  vote_average  vote_count  \n0  The greatest challenge.  Rocky III  False           6.6       894.0  \n1  The greatest challenge.  Rocky III  False           6.6       894.0  \n2  The greatest challenge.  Rocky III  False           6.6       894.0  \n3  The greatest challenge.  Rocky III  False           6.6       894.0  \n4  The greatest challenge.  Rocky III  False           6.6       894.0  ",
      "text/html": "<div>\n<style scoped>\n    .dataframe tbody tr th:only-of-type {\n        vertical-align: middle;\n    }\n\n    .dataframe tbody tr th {\n        vertical-align: top;\n    }\n\n    .dataframe thead th {\n        text-align: right;\n    }\n</style>\n<table border=\"1\" class=\"dataframe\">\n  <thead>\n    <tr style=\"text-align: right;\">\n      <th></th>\n      <th>userId</th>\n      <th>movieId</th>\n      <th>rating</th>\n      <th>timestamp</th>\n      <th>adult</th>\n      <th>belongs_to_collection</th>\n      <th>budget</th>\n      <th>genres</th>\n      <th>homepage</th>\n      <th>id</th>\n      <th>imdb_id</th>\n      <th>original_language</th>\n      <th>original_title</th>\n      <th>overview</th>\n      <th>popularity</th>\n      <th>poster_path</th>\n      <th>production_companies</th>\n      <th>production_countries</th>\n      <th>release_date</th>\n      <th>revenue</th>\n      <th>runtime</th>\n      <th>spoken_languages</th>\n      <th>status</th>\n      <th>tagline</th>\n      <th>title</th>\n      <th>video</th>\n      <th>vote_average</th>\n      <th>vote_count</th>\n    </tr>\n  </thead>\n  <tbody>\n    <tr>\n      <th>0</th>\n      <td>1</td>\n      <td>1371</td>\n      <td>2.5</td>\n      <td>1260759135</td>\n      <td>False</td>\n      <td>{'id': 1575, 'name': 'Rocky Collection', 'post...</td>\n      <td>17000000</td>\n      <td>[{'id': 18, 'name': 'Drama'}]</td>\n      <td>NaN</td>\n      <td>1371</td>\n      <td>tt0084602</td>\n      <td>en</td>\n      <td>Rocky III</td>\n      <td>Now the world champion, Rocky Balboa is living...</td>\n      <td>11.673366</td>\n      <td>/ns55NGqTDEEjcI9z2a9htA2cFtG.jpg</td>\n      <td>[{'name': 'United Artists', 'id': 60}]</td>\n      <td>[{'iso_3166_1': 'US', 'name': 'United States o...</td>\n      <td>1982-05-28</td>\n      <td>270000000.0</td>\n      <td>99.0</td>\n      <td>[{'iso_639_1': 'en', 'name': 'English'}]</td>\n      <td>Released</td>\n      <td>The greatest challenge.</td>\n      <td>Rocky III</td>\n      <td>False</td>\n      <td>6.6</td>\n      <td>894.0</td>\n    </tr>\n    <tr>\n      <th>1</th>\n      <td>4</td>\n      <td>1371</td>\n      <td>4.0</td>\n      <td>949810302</td>\n      <td>False</td>\n      <td>{'id': 1575, 'name': 'Rocky Collection', 'post...</td>\n      <td>17000000</td>\n      <td>[{'id': 18, 'name': 'Drama'}]</td>\n      <td>NaN</td>\n      <td>1371</td>\n      <td>tt0084602</td>\n      <td>en</td>\n      <td>Rocky III</td>\n      <td>Now the world champion, Rocky Balboa is living...</td>\n      <td>11.673366</td>\n      <td>/ns55NGqTDEEjcI9z2a9htA2cFtG.jpg</td>\n      <td>[{'name': 'United Artists', 'id': 60}]</td>\n      <td>[{'iso_3166_1': 'US', 'name': 'United States o...</td>\n      <td>1982-05-28</td>\n      <td>270000000.0</td>\n      <td>99.0</td>\n      <td>[{'iso_639_1': 'en', 'name': 'English'}]</td>\n      <td>Released</td>\n      <td>The greatest challenge.</td>\n      <td>Rocky III</td>\n      <td>False</td>\n      <td>6.6</td>\n      <td>894.0</td>\n    </tr>\n    <tr>\n      <th>2</th>\n      <td>7</td>\n      <td>1371</td>\n      <td>3.0</td>\n      <td>851869160</td>\n      <td>False</td>\n      <td>{'id': 1575, 'name': 'Rocky Collection', 'post...</td>\n      <td>17000000</td>\n      <td>[{'id': 18, 'name': 'Drama'}]</td>\n      <td>NaN</td>\n      <td>1371</td>\n      <td>tt0084602</td>\n      <td>en</td>\n      <td>Rocky III</td>\n      <td>Now the world champion, Rocky Balboa is living...</td>\n      <td>11.673366</td>\n      <td>/ns55NGqTDEEjcI9z2a9htA2cFtG.jpg</td>\n      <td>[{'name': 'United Artists', 'id': 60}]</td>\n      <td>[{'iso_3166_1': 'US', 'name': 'United States o...</td>\n      <td>1982-05-28</td>\n      <td>270000000.0</td>\n      <td>99.0</td>\n      <td>[{'iso_639_1': 'en', 'name': 'English'}]</td>\n      <td>Released</td>\n      <td>The greatest challenge.</td>\n      <td>Rocky III</td>\n      <td>False</td>\n      <td>6.6</td>\n      <td>894.0</td>\n    </tr>\n    <tr>\n      <th>3</th>\n      <td>19</td>\n      <td>1371</td>\n      <td>4.0</td>\n      <td>855193404</td>\n      <td>False</td>\n      <td>{'id': 1575, 'name': 'Rocky Collection', 'post...</td>\n      <td>17000000</td>\n      <td>[{'id': 18, 'name': 'Drama'}]</td>\n      <td>NaN</td>\n      <td>1371</td>\n      <td>tt0084602</td>\n      <td>en</td>\n      <td>Rocky III</td>\n      <td>Now the world champion, Rocky Balboa is living...</td>\n      <td>11.673366</td>\n      <td>/ns55NGqTDEEjcI9z2a9htA2cFtG.jpg</td>\n      <td>[{'name': 'United Artists', 'id': 60}]</td>\n      <td>[{'iso_3166_1': 'US', 'name': 'United States o...</td>\n      <td>1982-05-28</td>\n      <td>270000000.0</td>\n      <td>99.0</td>\n      <td>[{'iso_639_1': 'en', 'name': 'English'}]</td>\n      <td>Released</td>\n      <td>The greatest challenge.</td>\n      <td>Rocky III</td>\n      <td>False</td>\n      <td>6.6</td>\n      <td>894.0</td>\n    </tr>\n    <tr>\n      <th>4</th>\n      <td>21</td>\n      <td>1371</td>\n      <td>3.0</td>\n      <td>853852263</td>\n      <td>False</td>\n      <td>{'id': 1575, 'name': 'Rocky Collection', 'post...</td>\n      <td>17000000</td>\n      <td>[{'id': 18, 'name': 'Drama'}]</td>\n      <td>NaN</td>\n      <td>1371</td>\n      <td>tt0084602</td>\n      <td>en</td>\n      <td>Rocky III</td>\n      <td>Now the world champion, Rocky Balboa is living...</td>\n      <td>11.673366</td>\n      <td>/ns55NGqTDEEjcI9z2a9htA2cFtG.jpg</td>\n      <td>[{'name': 'United Artists', 'id': 60}]</td>\n      <td>[{'iso_3166_1': 'US', 'name': 'United States o...</td>\n      <td>1982-05-28</td>\n      <td>270000000.0</td>\n      <td>99.0</td>\n      <td>[{'iso_639_1': 'en', 'name': 'English'}]</td>\n      <td>Released</td>\n      <td>The greatest challenge.</td>\n      <td>Rocky III</td>\n      <td>False</td>\n      <td>6.6</td>\n      <td>894.0</td>\n    </tr>\n  </tbody>\n</table>\n</div>"
     },
     "execution_count": 3,
     "metadata": {},
     "output_type": "execute_result"
    }
   ],
   "source": [
    "df_movie['movieId'] = pd.to_numeric(df_movie['id'], errors='coerce')\n",
    "df = pd.merge(df_ratings, df_movie, on='movieId', how='inner')\n"
   ],
   "metadata": {
    "collapsed": false,
    "pycharm": {
     "name": "#%%\n"
    }
   }
  },
  {
   "cell_type": "code",
   "execution_count": 4,
   "outputs": [
    {
     "data": {
      "text/plain": "       userId  movieId  rating\n0           1     1371     2.5\n1           4     1371     4.0\n2           7     1371     3.0\n3          19     1371     4.0\n4          21     1371     3.0\n...       ...      ...     ...\n44989     652   129009     4.0\n44990     653     2103     3.0\n44991     659      167     4.0\n44992     659      563     3.0\n44993     665      129     3.0\n\n[44994 rows x 3 columns]",
      "text/html": "<div>\n<style scoped>\n    .dataframe tbody tr th:only-of-type {\n        vertical-align: middle;\n    }\n\n    .dataframe tbody tr th {\n        vertical-align: top;\n    }\n\n    .dataframe thead th {\n        text-align: right;\n    }\n</style>\n<table border=\"1\" class=\"dataframe\">\n  <thead>\n    <tr style=\"text-align: right;\">\n      <th></th>\n      <th>userId</th>\n      <th>movieId</th>\n      <th>rating</th>\n    </tr>\n  </thead>\n  <tbody>\n    <tr>\n      <th>0</th>\n      <td>1</td>\n      <td>1371</td>\n      <td>2.5</td>\n    </tr>\n    <tr>\n      <th>1</th>\n      <td>4</td>\n      <td>1371</td>\n      <td>4.0</td>\n    </tr>\n    <tr>\n      <th>2</th>\n      <td>7</td>\n      <td>1371</td>\n      <td>3.0</td>\n    </tr>\n    <tr>\n      <th>3</th>\n      <td>19</td>\n      <td>1371</td>\n      <td>4.0</td>\n    </tr>\n    <tr>\n      <th>4</th>\n      <td>21</td>\n      <td>1371</td>\n      <td>3.0</td>\n    </tr>\n    <tr>\n      <th>...</th>\n      <td>...</td>\n      <td>...</td>\n      <td>...</td>\n    </tr>\n    <tr>\n      <th>44989</th>\n      <td>652</td>\n      <td>129009</td>\n      <td>4.0</td>\n    </tr>\n    <tr>\n      <th>44990</th>\n      <td>653</td>\n      <td>2103</td>\n      <td>3.0</td>\n    </tr>\n    <tr>\n      <th>44991</th>\n      <td>659</td>\n      <td>167</td>\n      <td>4.0</td>\n    </tr>\n    <tr>\n      <th>44992</th>\n      <td>659</td>\n      <td>563</td>\n      <td>3.0</td>\n    </tr>\n    <tr>\n      <th>44993</th>\n      <td>665</td>\n      <td>129</td>\n      <td>3.0</td>\n    </tr>\n  </tbody>\n</table>\n<p>44994 rows × 3 columns</p>\n</div>"
     },
     "execution_count": 4,
     "metadata": {},
     "output_type": "execute_result"
    }
   ],
   "source": [
    "df_re = df.iloc[:, 0:3]\n",
    "df_re"
   ],
   "metadata": {
    "collapsed": false,
    "pycharm": {
     "name": "#%%\n"
    }
   }
  },
  {
   "cell_type": "markdown",
   "source": [
    "## EDA"
   ],
   "metadata": {
    "collapsed": false,
    "pycharm": {
     "name": "#%% md\n"
    }
   }
  },
  {
   "cell_type": "code",
   "execution_count": null,
   "outputs": [],
   "source": [],
   "metadata": {
    "collapsed": false,
    "pycharm": {
     "name": "#%%\n"
    }
   }
  }
 ],
 "metadata": {
  "kernelspec": {
   "display_name": "Python 3",
   "language": "python",
   "name": "python3"
  },
  "language_info": {
   "codemirror_mode": {
    "name": "ipython",
    "version": 2
   },
   "file_extension": ".py",
   "mimetype": "text/x-python",
   "name": "python",
   "nbconvert_exporter": "python",
   "pygments_lexer": "ipython2",
   "version": "2.7.6"
  }
 },
 "nbformat": 4,
 "nbformat_minor": 0
}